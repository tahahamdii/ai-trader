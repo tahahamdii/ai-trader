{
 "cells": [
  {
   "cell_type": "code",
   "execution_count": 1,
   "metadata": {
    "id": "P6bX8Tqe0SeT"
   },
   "outputs": [],
   "source": [
    "# module imports\n",
    "import numpy as np\n",
    "import pandas as pd\n",
    "import matplotlib.pyplot as plt"
   ]
  },
  {
   "cell_type": "code",
   "execution_count": 2,
   "metadata": {
    "colab": {
     "base_uri": "https://localhost:8080/"
    },
    "id": "6bultCiC0xMQ",
    "outputId": "27d4f00c-c025-4020-fccf-bdca35280b7e"
   },
   "outputs": [
    {
     "name": "stderr",
     "output_type": "stream",
     "text": [
      "C:\\Users\\ONS\\AppData\\Local\\Temp\\ipykernel_14660\\1774483292.py:4: DtypeWarning: Columns (1,2,4,5,6,7,8,9) have mixed types. Specify dtype option on import or set low_memory=False.\n",
      "  cotation_2010 = pd.read_csv(r\"C:\\Users\\ONS\\Downloads\\Cotation_2008-2023\\Cotation_2008-2023\\histo_cotation_2010.csv\")\n",
      "C:\\Users\\ONS\\AppData\\Local\\Temp\\ipykernel_14660\\1774483292.py:15: DtypeWarning: Columns (1,4,5,6,7,8,9,10) have mixed types. Specify dtype option on import or set low_memory=False.\n",
      "  cotation_2021 = pd.read_csv(r\"C:\\Users\\ONS\\Downloads\\Cotation_2008-2023\\Cotation_2008-2023\\histo_cotation_2021.csv\")\n"
     ]
    },
    {
     "name": "stdout",
     "output_type": "stream",
     "text": [
      "           SEANCE  GROUPE    CODE              VALEUR  OUVERTURE  CLOTURE  \\\n",
      "0        2/1/2008      11  100010            MONOPRIX      85.00    85.00   \n",
      "1        2/1/2008      11  110025                SFBT      14.50    14.60   \n",
      "2        2/1/2008      11  120040            TUNISAIR       3.80     3.80   \n",
      "3        2/1/2008      11  130055           BTE (ADP)      32.30    32.30   \n",
      "4        2/1/2008      11  140070       SPDIT - SICAF       7.00     7.00   \n",
      "...           ...     ...     ...                 ...        ...      ...   \n",
      "67946  31/12/2008      33  150092         AMS DA 1/50       0.00     0.00   \n",
      "67947  31/12/2008      33  150093  AMS DA 1/51 150702       0.00     0.00   \n",
      "67948  31/12/2008      33  150094    AMS DA 1/26 0803       0.00     0.00   \n",
      "67949  31/12/2008      33  150095   AMS DA 1/9 090804       0.00     0.00   \n",
      "67950  31/12/2008      52  729001               SOPAT       6.39     6.39   \n",
      "\n",
      "       PLUS_BAS  PLUS_HAUT  QUANTITE_NEGOCIEE  NB_TRANSACTION CAPITAUX IND_RES  \n",
      "0         85.00      85.00                250               7            21250  \n",
      "1         14.50      14.72               6285              22          91850.4  \n",
      "2          3.80       3.80               7548              16          28682.4  \n",
      "3         32.30      32.30                237               6           7655.1  \n",
      "4          7.00       7.00                300               2             2100  \n",
      "...         ...        ...                ...             ...              ...  \n",
      "67946      0.00       0.00                  0               0          0.000 B  \n",
      "67947      0.00       0.00                  0               0                0  \n",
      "67948      0.00       0.00                  0               0          0.000 B  \n",
      "67949      0.00       0.00                  0               0                0  \n",
      "67950      6.39       6.39                197               1          1258.83  \n",
      "\n",
      "[67951 rows x 11 columns]\n"
     ]
    }
   ],
   "source": [
    "# Read CSV file into a DataFrame\n",
    "cotation_2008 = pd.read_csv(r\"C:\\Users\\ONS\\Downloads\\Cotation_2008-2023\\Cotation_2008-2023\\histo_cotation_2008.csv\")\n",
    "cotation_2009 = pd.read_csv(r\"C:\\Users\\ONS\\Downloads\\Cotation_2008-2023\\Cotation_2008-2023\\histo_cotation_2009.csv\")\n",
    "cotation_2010 = pd.read_csv(r\"C:\\Users\\ONS\\Downloads\\Cotation_2008-2023\\Cotation_2008-2023\\histo_cotation_2010.csv\")\n",
    "cotation_2011 = pd.read_csv(r\"C:\\Users\\ONS\\Downloads\\Cotation_2008-2023\\Cotation_2008-2023\\histo_cotation_2011.csv\")\n",
    "cotation_2012 = pd.read_csv(r\"C:\\Users\\ONS\\Downloads\\Cotation_2008-2023\\Cotation_2008-2023\\histo_cotation_2012.csv\")\n",
    "cotation_2013 = pd.read_csv(r\"C:\\Users\\ONS\\Downloads\\Cotation_2008-2023\\Cotation_2008-2023\\histo_cotation_2013.csv\")\n",
    "cotation_2014 = pd.read_csv(r\"C:\\Users\\ONS\\Downloads\\Cotation_2008-2023\\Cotation_2008-2023\\histo_cotation_2014.csv\")\n",
    "cotation_2015 = pd.read_csv(r\"C:\\Users\\ONS\\Downloads\\Cotation_2008-2023\\Cotation_2008-2023\\histo_cotation_2015.csv\")\n",
    "cotation_2016 = pd.read_csv(r\"C:\\Users\\ONS\\Downloads\\Cotation_2008-2023\\Cotation_2008-2023\\histo_cotation_2016.csv\")\n",
    "cotation_2017 = pd.read_csv(r\"C:\\Users\\ONS\\Downloads\\Cotation_2008-2023\\Cotation_2008-2023\\histo_cotation_2017.csv\")\n",
    "cotation_2018 = pd.read_csv(r\"C:\\Users\\ONS\\Downloads\\Cotation_2008-2023\\Cotation_2008-2023\\histo_cotation_2018.csv\")\n",
    "cotation_2019 = pd.read_csv(r\"C:\\Users\\ONS\\Downloads\\Cotation_2008-2023\\Cotation_2008-2023\\histo_cotation_2019.csv\")\n",
    "cotation_2020 = pd.read_csv(r\"C:\\Users\\ONS\\Downloads\\Cotation_2008-2023\\Cotation_2008-2023\\histo_cotation_2020.csv\")\n",
    "cotation_2021 = pd.read_csv(r\"C:\\Users\\ONS\\Downloads\\Cotation_2008-2023\\Cotation_2008-2023\\histo_cotation_2021.csv\")\n",
    "cotation_2022 = pd.read_csv(r\"C:\\Users\\ONS\\Downloads\\Cotation_2008-2023\\Cotation_2008-2023\\histo_cotation_2022.csv\")\n",
    "cotation_2023 = pd.read_csv(r\"C:\\Users\\ONS\\Downloads\\Cotation_2008-2023\\Cotation_2008-2023\\histo_cotation_2023.csv\")\n",
    "\n",
    "# Display the DataFrame\n",
    "print(cotation_2008)"
   ]
  },
  {
   "cell_type": "code",
   "execution_count": 3,
   "metadata": {
    "id": "Vf6659l2n59V"
   },
   "outputs": [],
   "source": [
    "# List of columns to drop\n",
    "columns_to_drop = ['COURS_REF', 'COURS_VEILLE', 'DERNIER_COURS']\n",
    "\n",
    "# Drop the specified columns\n",
    "cotation_2018= cotation_2018.drop(columns=columns_to_drop)\n",
    "cotation_2019= cotation_2019.drop(columns=columns_to_drop)\n",
    "\n",
    "# Now df contains the dataset without the dropped features"
   ]
  },
  {
   "cell_type": "code",
   "execution_count": 4,
   "metadata": {
    "colab": {
     "base_uri": "https://localhost:8080/"
    },
    "id": "QDMMlwXxfmSA",
    "outputId": "d0985506-4d5b-410a-d740-b355acbb8b8e"
   },
   "outputs": [
    {
     "name": "stdout",
     "output_type": "stream",
     "text": [
      "Duplicate rows:\n",
      "Empty DataFrame\n",
      "Columns: [SEANCE, C_GR_RLC, CODE_VAL, LIB_VAL, OUVERTURE, CLOTURE, PLUS_BAS, PLUS_HAUT, QUANTITE_NEGOCIEE, NB_TRAN, CAPITAUX IND_RES]\n",
      "Index: []\n",
      "Empty DataFrame\n",
      "Columns: [SEANCE, C_GR_RLC, CODE_VAL, LIB_VAL, OUVERTURE, CLOTURE, PLUS_BAS, PLUS_HAUT, QUANTITE_NEGOCIEE, NB_TRAN, CAPITAUX IND_RES]\n",
      "Index: []\n",
      "Number of duplicate rows: 0\n",
      "Number of duplicate rows: 0\n"
     ]
    }
   ],
   "source": [
    "# Check for duplicates\n",
    "duplicate_rows1 = cotation_2018.duplicated()\n",
    "duplicate_rows2 = cotation_2019.duplicated()\n",
    "\n",
    "# Display duplicate rows\n",
    "print(\"Duplicate rows:\")\n",
    "print(cotation_2018[duplicate_rows1])\n",
    "print(cotation_2019[duplicate_rows2])\n",
    "# Count the number of duplicates\n",
    "num_duplicates1 = duplicate_rows1.sum()\n",
    "num_duplicates2 = duplicate_rows2.sum()\n",
    "\n",
    "print(f\"Number of duplicate rows: {num_duplicates1}\")\n",
    "print(f\"Number of duplicate rows: {num_duplicates2}\")"
   ]
  },
  {
   "cell_type": "code",
   "execution_count": 5,
   "metadata": {
    "id": "xaEYwo8c6UMu"
   },
   "outputs": [],
   "source": [
    "# Create a dictionary to map old column names to new column names\n",
    "new_column_names = {'C_GR_RLC': 'GROUPE', 'CODE_VAL': 'CODE', 'LIB_VAL': 'VALEUR', 'NB_TRAN': 'NB_TRANSACTION'}\n",
    "\n",
    "# Rename the columns\n",
    "cotation_2018 = cotation_2018.rename(columns=new_column_names)\n",
    "cotation_2019 = cotation_2019.rename(columns=new_column_names)\n",
    "\n",
    "\n",
    "# Now df contains the dataset with renamed columns"
   ]
  },
  {
   "cell_type": "markdown",
   "metadata": {
    "id": "A3v9a3Qtfw35"
   },
   "source": [
    "--------------------------------------------------------------"
   ]
  },
  {
   "cell_type": "code",
   "execution_count": 6,
   "metadata": {
    "id": "jeCb_LON2GX1"
   },
   "outputs": [],
   "source": [
    "# Concatenate along rows\n",
    "df_cotation = pd.concat([cotation_2008, cotation_2009,cotation_2010,cotation_2011,cotation_2012,cotation_2013,cotation_2014,cotation_2015,cotation_2016,cotation_2017,cotation_2018,cotation_2019,cotation_2020,cotation_2021,cotation_2022,cotation_2023], ignore_index=True)"
   ]
  },
  {
   "cell_type": "code",
   "execution_count": 7,
   "metadata": {
    "colab": {
     "base_uri": "https://localhost:8080/"
    },
    "id": "6I1O3aqcigUI",
    "outputId": "96bf29cd-1eda-4c21-9816-ad2ca363c846"
   },
   "outputs": [
    {
     "name": "stdout",
     "output_type": "stream",
     "text": [
      "<class 'pandas.core.frame.DataFrame'>\n",
      "RangeIndex: 1556557 entries, 0 to 1556556\n",
      "Data columns (total 11 columns):\n",
      " #   Column             Non-Null Count    Dtype \n",
      "---  ------             --------------    ----- \n",
      " 0   SEANCE             1556554 non-null  object\n",
      " 1   GROUPE             1513432 non-null  object\n",
      " 2   CODE               1556554 non-null  object\n",
      " 3   VALEUR             1556554 non-null  object\n",
      " 4   OUVERTURE          1556554 non-null  object\n",
      " 5   CLOTURE            1556554 non-null  object\n",
      " 6   PLUS_BAS           1556554 non-null  object\n",
      " 7   PLUS_HAUT          1556554 non-null  object\n",
      " 8   QUANTITE_NEGOCIEE  1556554 non-null  object\n",
      " 9   NB_TRANSACTION     1556554 non-null  object\n",
      " 10  CAPITAUX IND_RES   1446084 non-null  object\n",
      "dtypes: object(11)\n",
      "memory usage: 130.6+ MB\n"
     ]
    }
   ],
   "source": [
    "df_cotation.info()"
   ]
  },
  {
   "cell_type": "code",
   "execution_count": 8,
   "metadata": {
    "colab": {
     "base_uri": "https://localhost:8080/"
    },
    "id": "hiSpT_hg5emD",
    "outputId": "ec1e77b6-bfbf-4540-fa45-98645c211682"
   },
   "outputs": [
    {
     "name": "stdout",
     "output_type": "stream",
     "text": [
      "Duplicate rows:\n",
      "             SEANCE   GROUPE          CODE                VALEUR    OUVERTURE  \\\n",
      "1304298         NaN      NaN           NaN                   NaN          NaN   \n",
      "1354298         NaN      NaN           NaN                   NaN          NaN   \n",
      "1354299      SEANCE   GROUPE          CODE                VALEUR    OUVERTURE   \n",
      "1354300  ----------  -------  ------------  --------------------  -----------   \n",
      "\n",
      "             CLOTURE     PLUS_BAS    PLUS_HAUT   QUANTITE_NEGOCIEE  \\\n",
      "1304298          NaN          NaN          NaN                 NaN   \n",
      "1354298          NaN          NaN          NaN                 NaN   \n",
      "1354299      CLOTURE     PLUS_BAS    PLUS_HAUT   QUANTITE_NEGOCIEE   \n",
      "1354300  -----------  -----------  -----------  ------------------   \n",
      "\n",
      "          NB_TRANSACTION   CAPITAUX IND_RES  \n",
      "1304298              NaN                NaN  \n",
      "1354298              NaN                NaN  \n",
      "1354299   NB_TRANSACTION           CAPITAUX  \n",
      "1354300  ---------------  -----------------  \n",
      "Number of duplicate rows: 4\n"
     ]
    }
   ],
   "source": [
    "# Check for duplicates\n",
    "duplicate_rows = df_cotation.duplicated()\n",
    "\n",
    "# Display duplicate rows\n",
    "print(\"Duplicate rows:\")\n",
    "print(df_cotation[duplicate_rows])\n",
    "\n",
    "# Count the number of duplicates\n",
    "num_duplicates = duplicate_rows.sum()\n",
    "print(f\"Number of duplicate rows: {num_duplicates}\")\n"
   ]
  },
  {
   "cell_type": "code",
   "execution_count": 9,
   "metadata": {
    "colab": {
     "base_uri": "https://localhost:8080/",
     "height": 206
    },
    "id": "mmr40eOhLIXr",
    "outputId": "180592f5-e0bd-4fb3-e8d8-e4964f035039"
   },
   "outputs": [
    {
     "data": {
      "text/html": [
       "<div>\n",
       "<style scoped>\n",
       "    .dataframe tbody tr th:only-of-type {\n",
       "        vertical-align: middle;\n",
       "    }\n",
       "\n",
       "    .dataframe tbody tr th {\n",
       "        vertical-align: top;\n",
       "    }\n",
       "\n",
       "    .dataframe thead th {\n",
       "        text-align: right;\n",
       "    }\n",
       "</style>\n",
       "<table border=\"1\" class=\"dataframe\">\n",
       "  <thead>\n",
       "    <tr style=\"text-align: right;\">\n",
       "      <th></th>\n",
       "      <th>SEANCE</th>\n",
       "      <th>GROUPE</th>\n",
       "      <th>CODE</th>\n",
       "      <th>VALEUR</th>\n",
       "      <th>OUVERTURE</th>\n",
       "      <th>CLOTURE</th>\n",
       "      <th>PLUS_BAS</th>\n",
       "      <th>PLUS_HAUT</th>\n",
       "      <th>QUANTITE_NEGOCIEE</th>\n",
       "      <th>NB_TRANSACTION</th>\n",
       "      <th>CAPITAUX IND_RES</th>\n",
       "    </tr>\n",
       "  </thead>\n",
       "  <tbody>\n",
       "    <tr>\n",
       "      <th>0</th>\n",
       "      <td>2/1/2008</td>\n",
       "      <td>11</td>\n",
       "      <td>100010</td>\n",
       "      <td>MONOPRIX</td>\n",
       "      <td>85.0</td>\n",
       "      <td>85.0</td>\n",
       "      <td>85.0</td>\n",
       "      <td>85.0</td>\n",
       "      <td>250</td>\n",
       "      <td>7</td>\n",
       "      <td>21250</td>\n",
       "    </tr>\n",
       "    <tr>\n",
       "      <th>1</th>\n",
       "      <td>2/1/2008</td>\n",
       "      <td>11</td>\n",
       "      <td>110025</td>\n",
       "      <td>SFBT</td>\n",
       "      <td>14.5</td>\n",
       "      <td>14.6</td>\n",
       "      <td>14.5</td>\n",
       "      <td>14.72</td>\n",
       "      <td>6285</td>\n",
       "      <td>22</td>\n",
       "      <td>91850.4</td>\n",
       "    </tr>\n",
       "    <tr>\n",
       "      <th>2</th>\n",
       "      <td>2/1/2008</td>\n",
       "      <td>11</td>\n",
       "      <td>120040</td>\n",
       "      <td>TUNISAIR</td>\n",
       "      <td>3.8</td>\n",
       "      <td>3.8</td>\n",
       "      <td>3.8</td>\n",
       "      <td>3.8</td>\n",
       "      <td>7548</td>\n",
       "      <td>16</td>\n",
       "      <td>28682.4</td>\n",
       "    </tr>\n",
       "    <tr>\n",
       "      <th>3</th>\n",
       "      <td>2/1/2008</td>\n",
       "      <td>11</td>\n",
       "      <td>130055</td>\n",
       "      <td>BTE (ADP)</td>\n",
       "      <td>32.3</td>\n",
       "      <td>32.3</td>\n",
       "      <td>32.3</td>\n",
       "      <td>32.3</td>\n",
       "      <td>237</td>\n",
       "      <td>6</td>\n",
       "      <td>7655.1</td>\n",
       "    </tr>\n",
       "    <tr>\n",
       "      <th>4</th>\n",
       "      <td>2/1/2008</td>\n",
       "      <td>11</td>\n",
       "      <td>140070</td>\n",
       "      <td>SPDIT - SICAF</td>\n",
       "      <td>7.0</td>\n",
       "      <td>7.0</td>\n",
       "      <td>7.0</td>\n",
       "      <td>7.0</td>\n",
       "      <td>300</td>\n",
       "      <td>2</td>\n",
       "      <td>2100</td>\n",
       "    </tr>\n",
       "  </tbody>\n",
       "</table>\n",
       "</div>"
      ],
      "text/plain": [
       "     SEANCE GROUPE    CODE         VALEUR OUVERTURE CLOTURE PLUS_BAS  \\\n",
       "0  2/1/2008     11  100010       MONOPRIX      85.0    85.0     85.0   \n",
       "1  2/1/2008     11  110025           SFBT      14.5    14.6     14.5   \n",
       "2  2/1/2008     11  120040       TUNISAIR       3.8     3.8      3.8   \n",
       "3  2/1/2008     11  130055      BTE (ADP)      32.3    32.3     32.3   \n",
       "4  2/1/2008     11  140070  SPDIT - SICAF       7.0     7.0      7.0   \n",
       "\n",
       "  PLUS_HAUT QUANTITE_NEGOCIEE NB_TRANSACTION CAPITAUX IND_RES  \n",
       "0      85.0               250              7            21250  \n",
       "1     14.72              6285             22          91850.4  \n",
       "2       3.8              7548             16          28682.4  \n",
       "3      32.3               237              6           7655.1  \n",
       "4       7.0               300              2             2100  "
      ]
     },
     "execution_count": 9,
     "metadata": {},
     "output_type": "execute_result"
    }
   ],
   "source": [
    "df_cotation.head()"
   ]
  },
  {
   "cell_type": "code",
   "execution_count": 10,
   "metadata": {
    "id": "T5SO98cIFx9D"
   },
   "outputs": [],
   "source": [
    "# Drop duplicated rows\n",
    "df_cotation = df_cotation.drop_duplicates()\n",
    "\n",
    "# Now df_cotation contains the DataFrame without duplicated rows\n"
   ]
  },
  {
   "cell_type": "code",
   "execution_count": 11,
   "metadata": {
    "id": "oR79edAF8E0l"
   },
   "outputs": [],
   "source": [
    "df_cotation['SEANCE'] = df_cotation['SEANCE'].astype(str)"
   ]
  },
  {
   "cell_type": "code",
   "execution_count": 12,
   "metadata": {
    "colab": {
     "base_uri": "https://localhost:8080/"
    },
    "id": "kQdjxqc9B_8H",
    "outputId": "4eb3b092-c336-4ec5-c662-782907b790f0"
   },
   "outputs": [
    {
     "name": "stdout",
     "output_type": "stream",
     "text": [
      "<class 'pandas.core.frame.DataFrame'>\n",
      "Index: 1556553 entries, 0 to 1556556\n",
      "Data columns (total 11 columns):\n",
      " #   Column             Non-Null Count    Dtype \n",
      "---  ------             --------------    ----- \n",
      " 0   SEANCE             1556553 non-null  object\n",
      " 1   GROUPE             1513430 non-null  object\n",
      " 2   CODE               1556552 non-null  object\n",
      " 3   VALEUR             1556552 non-null  object\n",
      " 4   OUVERTURE          1556552 non-null  object\n",
      " 5   CLOTURE            1556552 non-null  object\n",
      " 6   PLUS_BAS           1556552 non-null  object\n",
      " 7   PLUS_HAUT          1556552 non-null  object\n",
      " 8   QUANTITE_NEGOCIEE  1556552 non-null  object\n",
      " 9   NB_TRANSACTION     1556552 non-null  object\n",
      " 10  CAPITAUX IND_RES   1446082 non-null  object\n",
      "dtypes: object(11)\n",
      "memory usage: 142.5+ MB\n"
     ]
    }
   ],
   "source": [
    "df_cotation.info()"
   ]
  },
  {
   "cell_type": "code",
   "execution_count": 13,
   "metadata": {
    "colab": {
     "base_uri": "https://localhost:8080/"
    },
    "id": "jVORXPan_wkN",
    "outputId": "aff85838-e172-48a1-d0b8-e04902d5b246"
   },
   "outputs": [
    {
     "name": "stdout",
     "output_type": "stream",
     "text": [
      "             SEANCE GROUPE          CODE              VALEUR OUVERTURE  \\\n",
      "0        02/01/2008     11        100010            MONOPRIX      85.0   \n",
      "1        02/01/2008     11        110025                SFBT      14.5   \n",
      "2        02/01/2008     11        120040            TUNISAIR       3.8   \n",
      "3        02/01/2008     11        130055           BTE (ADP)      32.3   \n",
      "4        02/01/2008     11        140070       SPDIT - SICAF       7.0   \n",
      "...             ...    ...           ...                 ...       ...   \n",
      "1556552  29/12/2023     99  TN0006670012              SIPHAT      3.75   \n",
      "1556553  29/12/2023     99  TN0007130016          GIF-FILTER      0.55   \n",
      "1556554  29/12/2023     99  TN0007340011            SERVICOM      0.22   \n",
      "1556555  29/12/2023     99  TN0007660012  MAGHREB INTERN PUB      0.15   \n",
      "1556556  29/12/2023     99  TN0007690019                UADH      0.68   \n",
      "\n",
      "        CLOTURE PLUS_BAS PLUS_HAUT QUANTITE_NEGOCIEE NB_TRANSACTION  \\\n",
      "0          85.0     85.0      85.0               250              7   \n",
      "1          14.6     14.5     14.72              6285             22   \n",
      "2           3.8      3.8       3.8              7548             16   \n",
      "3          32.3     32.3      32.3               237              6   \n",
      "4           7.0      7.0       7.0               300              2   \n",
      "...         ...      ...       ...               ...            ...   \n",
      "1556552    3.76     3.76      3.76                88              2   \n",
      "1556553    0.53      0.0       0.0                 0              0   \n",
      "1556554    0.22     0.22      0.22              2500              4   \n",
      "1556555    0.14      0.0       0.0                 0              0   \n",
      "1556556    0.65      0.0       0.0                 0              0   \n",
      "\n",
      "        CAPITAUX IND_RES  \n",
      "0                  21250  \n",
      "1                91850.4  \n",
      "2                28682.4  \n",
      "3                 7655.1  \n",
      "4                   2100  \n",
      "...                  ...  \n",
      "1556552           330.88  \n",
      "1556553              0.0  \n",
      "1556554            550.0  \n",
      "1556555              0.0  \n",
      "1556556              0.0  \n",
      "\n",
      "[1556553 rows x 11 columns]\n"
     ]
    }
   ],
   "source": [
    "import re\n",
    "# Sample DataFrame\n",
    "# df_cotation = pd.DataFrame({'SEANCE': ['31/12/2022', '1/1/22', '15/3/2021', '5/6/21']})\n",
    "\n",
    "# Define a function to standardize date formats using regex\n",
    "def standardize_date(date_str):\n",
    "    # Define regex patterns for different date formats\n",
    "    patterns = [\n",
    "        r'(\\d{1,2})/(\\d{1,2})/(\\d{4})',  # dd/mm/yyyy\n",
    "        r'(\\d{1,2})/(\\d{1,2})/(\\d{2})'    # dd/mm/yy\n",
    "        # Add more patterns if needed for other formats\n",
    "    ]\n",
    "\n",
    "    # Iterate over patterns and try to match\n",
    "    for pattern in patterns:\n",
    "        match = re.match(pattern, date_str)\n",
    "        if match:\n",
    "            day = match.group(1).zfill(2)  # Zero padding for day\n",
    "            month = match.group(2).zfill(2)  # Zero padding for month\n",
    "            year = match.group(3)  # Extract year\n",
    "            if len(year) == 2:  # If year has 2 digits, pad with '20'\n",
    "                year = '20' + year\n",
    "            return f\"{day}/{month}/{year}\"\n",
    "\n",
    "# Standardize 'SEANCE' column values using the defined function\n",
    "df_cotation['SEANCE'] = df_cotation['SEANCE'].apply(standardize_date)\n",
    "\n",
    "# Display the DataFrame with standardized date values\n",
    "print(df_cotation)\n"
   ]
  },
  {
   "cell_type": "code",
   "execution_count": 14,
   "metadata": {
    "colab": {
     "base_uri": "https://localhost:8080/",
     "height": 423
    },
    "id": "jOPyuaW3__td",
    "outputId": "b79e6ea8-79f6-4f3b-ce7c-78f296e30714"
   },
   "outputs": [
    {
     "data": {
      "text/html": [
       "<div>\n",
       "<style scoped>\n",
       "    .dataframe tbody tr th:only-of-type {\n",
       "        vertical-align: middle;\n",
       "    }\n",
       "\n",
       "    .dataframe tbody tr th {\n",
       "        vertical-align: top;\n",
       "    }\n",
       "\n",
       "    .dataframe thead th {\n",
       "        text-align: right;\n",
       "    }\n",
       "</style>\n",
       "<table border=\"1\" class=\"dataframe\">\n",
       "  <thead>\n",
       "    <tr style=\"text-align: right;\">\n",
       "      <th></th>\n",
       "      <th>SEANCE</th>\n",
       "      <th>GROUPE</th>\n",
       "      <th>CODE</th>\n",
       "      <th>VALEUR</th>\n",
       "      <th>OUVERTURE</th>\n",
       "      <th>CLOTURE</th>\n",
       "      <th>PLUS_BAS</th>\n",
       "      <th>PLUS_HAUT</th>\n",
       "      <th>QUANTITE_NEGOCIEE</th>\n",
       "      <th>NB_TRANSACTION</th>\n",
       "      <th>CAPITAUX IND_RES</th>\n",
       "    </tr>\n",
       "  </thead>\n",
       "  <tbody>\n",
       "    <tr>\n",
       "      <th>0</th>\n",
       "      <td>02/01/2008</td>\n",
       "      <td>11</td>\n",
       "      <td>100010</td>\n",
       "      <td>MONOPRIX</td>\n",
       "      <td>85.0</td>\n",
       "      <td>85.0</td>\n",
       "      <td>85.0</td>\n",
       "      <td>85.0</td>\n",
       "      <td>250</td>\n",
       "      <td>7</td>\n",
       "      <td>21250</td>\n",
       "    </tr>\n",
       "    <tr>\n",
       "      <th>1</th>\n",
       "      <td>02/01/2008</td>\n",
       "      <td>11</td>\n",
       "      <td>110025</td>\n",
       "      <td>SFBT</td>\n",
       "      <td>14.5</td>\n",
       "      <td>14.6</td>\n",
       "      <td>14.5</td>\n",
       "      <td>14.72</td>\n",
       "      <td>6285</td>\n",
       "      <td>22</td>\n",
       "      <td>91850.4</td>\n",
       "    </tr>\n",
       "    <tr>\n",
       "      <th>2</th>\n",
       "      <td>02/01/2008</td>\n",
       "      <td>11</td>\n",
       "      <td>120040</td>\n",
       "      <td>TUNISAIR</td>\n",
       "      <td>3.8</td>\n",
       "      <td>3.8</td>\n",
       "      <td>3.8</td>\n",
       "      <td>3.8</td>\n",
       "      <td>7548</td>\n",
       "      <td>16</td>\n",
       "      <td>28682.4</td>\n",
       "    </tr>\n",
       "    <tr>\n",
       "      <th>3</th>\n",
       "      <td>02/01/2008</td>\n",
       "      <td>11</td>\n",
       "      <td>130055</td>\n",
       "      <td>BTE (ADP)</td>\n",
       "      <td>32.3</td>\n",
       "      <td>32.3</td>\n",
       "      <td>32.3</td>\n",
       "      <td>32.3</td>\n",
       "      <td>237</td>\n",
       "      <td>6</td>\n",
       "      <td>7655.1</td>\n",
       "    </tr>\n",
       "    <tr>\n",
       "      <th>4</th>\n",
       "      <td>02/01/2008</td>\n",
       "      <td>11</td>\n",
       "      <td>140070</td>\n",
       "      <td>SPDIT - SICAF</td>\n",
       "      <td>7.0</td>\n",
       "      <td>7.0</td>\n",
       "      <td>7.0</td>\n",
       "      <td>7.0</td>\n",
       "      <td>300</td>\n",
       "      <td>2</td>\n",
       "      <td>2100</td>\n",
       "    </tr>\n",
       "    <tr>\n",
       "      <th>...</th>\n",
       "      <td>...</td>\n",
       "      <td>...</td>\n",
       "      <td>...</td>\n",
       "      <td>...</td>\n",
       "      <td>...</td>\n",
       "      <td>...</td>\n",
       "      <td>...</td>\n",
       "      <td>...</td>\n",
       "      <td>...</td>\n",
       "      <td>...</td>\n",
       "      <td>...</td>\n",
       "    </tr>\n",
       "    <tr>\n",
       "      <th>1556552</th>\n",
       "      <td>29/12/2023</td>\n",
       "      <td>99</td>\n",
       "      <td>TN0006670012</td>\n",
       "      <td>SIPHAT</td>\n",
       "      <td>3.75</td>\n",
       "      <td>3.76</td>\n",
       "      <td>3.76</td>\n",
       "      <td>3.76</td>\n",
       "      <td>88</td>\n",
       "      <td>2</td>\n",
       "      <td>330.88</td>\n",
       "    </tr>\n",
       "    <tr>\n",
       "      <th>1556553</th>\n",
       "      <td>29/12/2023</td>\n",
       "      <td>99</td>\n",
       "      <td>TN0007130016</td>\n",
       "      <td>GIF-FILTER</td>\n",
       "      <td>0.55</td>\n",
       "      <td>0.53</td>\n",
       "      <td>0.0</td>\n",
       "      <td>0.0</td>\n",
       "      <td>0</td>\n",
       "      <td>0</td>\n",
       "      <td>0.0</td>\n",
       "    </tr>\n",
       "    <tr>\n",
       "      <th>1556554</th>\n",
       "      <td>29/12/2023</td>\n",
       "      <td>99</td>\n",
       "      <td>TN0007340011</td>\n",
       "      <td>SERVICOM</td>\n",
       "      <td>0.22</td>\n",
       "      <td>0.22</td>\n",
       "      <td>0.22</td>\n",
       "      <td>0.22</td>\n",
       "      <td>2500</td>\n",
       "      <td>4</td>\n",
       "      <td>550.0</td>\n",
       "    </tr>\n",
       "    <tr>\n",
       "      <th>1556555</th>\n",
       "      <td>29/12/2023</td>\n",
       "      <td>99</td>\n",
       "      <td>TN0007660012</td>\n",
       "      <td>MAGHREB INTERN PUB</td>\n",
       "      <td>0.15</td>\n",
       "      <td>0.14</td>\n",
       "      <td>0.0</td>\n",
       "      <td>0.0</td>\n",
       "      <td>0</td>\n",
       "      <td>0</td>\n",
       "      <td>0.0</td>\n",
       "    </tr>\n",
       "    <tr>\n",
       "      <th>1556556</th>\n",
       "      <td>29/12/2023</td>\n",
       "      <td>99</td>\n",
       "      <td>TN0007690019</td>\n",
       "      <td>UADH</td>\n",
       "      <td>0.68</td>\n",
       "      <td>0.65</td>\n",
       "      <td>0.0</td>\n",
       "      <td>0.0</td>\n",
       "      <td>0</td>\n",
       "      <td>0</td>\n",
       "      <td>0.0</td>\n",
       "    </tr>\n",
       "  </tbody>\n",
       "</table>\n",
       "<p>1556553 rows × 11 columns</p>\n",
       "</div>"
      ],
      "text/plain": [
       "             SEANCE GROUPE          CODE              VALEUR OUVERTURE  \\\n",
       "0        02/01/2008     11        100010            MONOPRIX      85.0   \n",
       "1        02/01/2008     11        110025                SFBT      14.5   \n",
       "2        02/01/2008     11        120040            TUNISAIR       3.8   \n",
       "3        02/01/2008     11        130055           BTE (ADP)      32.3   \n",
       "4        02/01/2008     11        140070       SPDIT - SICAF       7.0   \n",
       "...             ...    ...           ...                 ...       ...   \n",
       "1556552  29/12/2023     99  TN0006670012              SIPHAT      3.75   \n",
       "1556553  29/12/2023     99  TN0007130016          GIF-FILTER      0.55   \n",
       "1556554  29/12/2023     99  TN0007340011            SERVICOM      0.22   \n",
       "1556555  29/12/2023     99  TN0007660012  MAGHREB INTERN PUB      0.15   \n",
       "1556556  29/12/2023     99  TN0007690019                UADH      0.68   \n",
       "\n",
       "        CLOTURE PLUS_BAS PLUS_HAUT QUANTITE_NEGOCIEE NB_TRANSACTION  \\\n",
       "0          85.0     85.0      85.0               250              7   \n",
       "1          14.6     14.5     14.72              6285             22   \n",
       "2           3.8      3.8       3.8              7548             16   \n",
       "3          32.3     32.3      32.3               237              6   \n",
       "4           7.0      7.0       7.0               300              2   \n",
       "...         ...      ...       ...               ...            ...   \n",
       "1556552    3.76     3.76      3.76                88              2   \n",
       "1556553    0.53      0.0       0.0                 0              0   \n",
       "1556554    0.22     0.22      0.22              2500              4   \n",
       "1556555    0.14      0.0       0.0                 0              0   \n",
       "1556556    0.65      0.0       0.0                 0              0   \n",
       "\n",
       "        CAPITAUX IND_RES  \n",
       "0                  21250  \n",
       "1                91850.4  \n",
       "2                28682.4  \n",
       "3                 7655.1  \n",
       "4                   2100  \n",
       "...                  ...  \n",
       "1556552           330.88  \n",
       "1556553              0.0  \n",
       "1556554            550.0  \n",
       "1556555              0.0  \n",
       "1556556              0.0  \n",
       "\n",
       "[1556553 rows x 11 columns]"
      ]
     },
     "execution_count": 14,
     "metadata": {},
     "output_type": "execute_result"
    }
   ],
   "source": [
    "df_cotation"
   ]
  },
  {
   "cell_type": "code",
   "execution_count": 15,
   "metadata": {
    "colab": {
     "base_uri": "https://localhost:8080/"
    },
    "id": "hoTTzSw8UsK3",
    "outputId": "5b15e2b7-8c34-4f46-e421-1c2d9b680f93"
   },
   "outputs": [
    {
     "name": "stdout",
     "output_type": "stream",
     "text": [
      "             SEANCE GROUPE          CODE              VALEUR OUVERTURE  \\\n",
      "0        02/01/2008     11        100010            MONOPRIX      85.0   \n",
      "1        02/01/2008     11        110025                SFBT      14.5   \n",
      "2        02/01/2008     11        120040            TUNISAIR       3.8   \n",
      "3        02/01/2008     11        130055           BTE (ADP)      32.3   \n",
      "4        02/01/2008     11        140070       SPDIT - SICAF       7.0   \n",
      "...             ...    ...           ...                 ...       ...   \n",
      "1556552  29/12/2023     99  TN0006670012              SIPHAT      3.75   \n",
      "1556553  29/12/2023     99  TN0007130016          GIF-FILTER      0.55   \n",
      "1556554  29/12/2023     99  TN0007340011            SERVICOM      0.22   \n",
      "1556555  29/12/2023     99  TN0007660012  MAGHREB INTERN PUB      0.15   \n",
      "1556556  29/12/2023     99  TN0007690019                UADH      0.68   \n",
      "\n",
      "        CLOTURE PLUS_BAS PLUS_HAUT QUANTITE_NEGOCIEE NB_TRANSACTION  \\\n",
      "0          85.0     85.0      85.0               250              7   \n",
      "1          14.6     14.5     14.72              6285             22   \n",
      "2           3.8      3.8       3.8              7548             16   \n",
      "3          32.3     32.3      32.3               237              6   \n",
      "4           7.0      7.0       7.0               300              2   \n",
      "...         ...      ...       ...               ...            ...   \n",
      "1556552    3.76     3.76      3.76                88              2   \n",
      "1556553    0.53      0.0       0.0                 0              0   \n",
      "1556554    0.22     0.22      0.22              2500              4   \n",
      "1556555    0.14      0.0       0.0                 0              0   \n",
      "1556556    0.65      0.0       0.0                 0              0   \n",
      "\n",
      "        CAPITAUX IND_RES  \n",
      "0                  21250  \n",
      "1                91850.4  \n",
      "2                28682.4  \n",
      "3                 7655.1  \n",
      "4                   2100  \n",
      "...                  ...  \n",
      "1556552           330.88  \n",
      "1556553              0.0  \n",
      "1556554            550.0  \n",
      "1556555              0.0  \n",
      "1556556              0.0  \n",
      "\n",
      "[318469 rows x 11 columns]\n"
     ]
    }
   ],
   "source": [
    "# Drop rows where 'VALEUR' column contains a number\n",
    "df_cotation_entreprises = df_cotation[~df_cotation['VALEUR'].str.contains('\\d', na=False)]\n",
    "\n",
    "# Display the filtered DataFrame\n",
    "print(df_cotation_entreprises)"
   ]
  },
  {
   "cell_type": "code",
   "execution_count": 16,
   "metadata": {
    "colab": {
     "base_uri": "https://localhost:8080/",
     "height": 206
    },
    "id": "HG0CHFVSGTHs",
    "outputId": "fa79955b-6bbd-4a0d-f883-c6591757c067"
   },
   "outputs": [
    {
     "data": {
      "text/html": [
       "<div>\n",
       "<style scoped>\n",
       "    .dataframe tbody tr th:only-of-type {\n",
       "        vertical-align: middle;\n",
       "    }\n",
       "\n",
       "    .dataframe tbody tr th {\n",
       "        vertical-align: top;\n",
       "    }\n",
       "\n",
       "    .dataframe thead th {\n",
       "        text-align: right;\n",
       "    }\n",
       "</style>\n",
       "<table border=\"1\" class=\"dataframe\">\n",
       "  <thead>\n",
       "    <tr style=\"text-align: right;\">\n",
       "      <th></th>\n",
       "      <th>SEANCE</th>\n",
       "      <th>GROUPE</th>\n",
       "      <th>CODE</th>\n",
       "      <th>VALEUR</th>\n",
       "      <th>OUVERTURE</th>\n",
       "      <th>CLOTURE</th>\n",
       "      <th>PLUS_BAS</th>\n",
       "      <th>PLUS_HAUT</th>\n",
       "      <th>QUANTITE_NEGOCIEE</th>\n",
       "      <th>NB_TRANSACTION</th>\n",
       "      <th>CAPITAUX IND_RES</th>\n",
       "    </tr>\n",
       "  </thead>\n",
       "  <tbody>\n",
       "    <tr>\n",
       "      <th>0</th>\n",
       "      <td>02/01/2008</td>\n",
       "      <td>11</td>\n",
       "      <td>100010</td>\n",
       "      <td>MONOPRIX</td>\n",
       "      <td>85.0</td>\n",
       "      <td>85.0</td>\n",
       "      <td>85.0</td>\n",
       "      <td>85.0</td>\n",
       "      <td>250</td>\n",
       "      <td>7</td>\n",
       "      <td>21250</td>\n",
       "    </tr>\n",
       "    <tr>\n",
       "      <th>1</th>\n",
       "      <td>02/01/2008</td>\n",
       "      <td>11</td>\n",
       "      <td>110025</td>\n",
       "      <td>SFBT</td>\n",
       "      <td>14.5</td>\n",
       "      <td>14.6</td>\n",
       "      <td>14.5</td>\n",
       "      <td>14.72</td>\n",
       "      <td>6285</td>\n",
       "      <td>22</td>\n",
       "      <td>91850.4</td>\n",
       "    </tr>\n",
       "    <tr>\n",
       "      <th>2</th>\n",
       "      <td>02/01/2008</td>\n",
       "      <td>11</td>\n",
       "      <td>120040</td>\n",
       "      <td>TUNISAIR</td>\n",
       "      <td>3.8</td>\n",
       "      <td>3.8</td>\n",
       "      <td>3.8</td>\n",
       "      <td>3.8</td>\n",
       "      <td>7548</td>\n",
       "      <td>16</td>\n",
       "      <td>28682.4</td>\n",
       "    </tr>\n",
       "    <tr>\n",
       "      <th>3</th>\n",
       "      <td>02/01/2008</td>\n",
       "      <td>11</td>\n",
       "      <td>130055</td>\n",
       "      <td>BTE (ADP)</td>\n",
       "      <td>32.3</td>\n",
       "      <td>32.3</td>\n",
       "      <td>32.3</td>\n",
       "      <td>32.3</td>\n",
       "      <td>237</td>\n",
       "      <td>6</td>\n",
       "      <td>7655.1</td>\n",
       "    </tr>\n",
       "    <tr>\n",
       "      <th>4</th>\n",
       "      <td>02/01/2008</td>\n",
       "      <td>11</td>\n",
       "      <td>140070</td>\n",
       "      <td>SPDIT - SICAF</td>\n",
       "      <td>7.0</td>\n",
       "      <td>7.0</td>\n",
       "      <td>7.0</td>\n",
       "      <td>7.0</td>\n",
       "      <td>300</td>\n",
       "      <td>2</td>\n",
       "      <td>2100</td>\n",
       "    </tr>\n",
       "  </tbody>\n",
       "</table>\n",
       "</div>"
      ],
      "text/plain": [
       "       SEANCE GROUPE    CODE         VALEUR OUVERTURE CLOTURE PLUS_BAS  \\\n",
       "0  02/01/2008     11  100010       MONOPRIX      85.0    85.0     85.0   \n",
       "1  02/01/2008     11  110025           SFBT      14.5    14.6     14.5   \n",
       "2  02/01/2008     11  120040       TUNISAIR       3.8     3.8      3.8   \n",
       "3  02/01/2008     11  130055      BTE (ADP)      32.3    32.3     32.3   \n",
       "4  02/01/2008     11  140070  SPDIT - SICAF       7.0     7.0      7.0   \n",
       "\n",
       "  PLUS_HAUT QUANTITE_NEGOCIEE NB_TRANSACTION CAPITAUX IND_RES  \n",
       "0      85.0               250              7            21250  \n",
       "1     14.72              6285             22          91850.4  \n",
       "2       3.8              7548             16          28682.4  \n",
       "3      32.3               237              6           7655.1  \n",
       "4       7.0               300              2             2100  "
      ]
     },
     "execution_count": 16,
     "metadata": {},
     "output_type": "execute_result"
    }
   ],
   "source": [
    "df_cotation_entreprises.head()"
   ]
  },
  {
   "cell_type": "code",
   "execution_count": 17,
   "metadata": {
    "colab": {
     "base_uri": "https://localhost:8080/"
    },
    "id": "qppbXEl1dB2f",
    "outputId": "12ce14c1-4619-40f5-b93b-cb53981080c7"
   },
   "outputs": [],
   "source": [
    "# Specify the columns to check for 0 values\n",
    "columns_to_check = ['OUVERTURE', 'CLOTURE', 'PLUS_BAS', 'PLUS_HAUT', 'QUANTITE_NEGOCIEE', 'NB_TRANSACTION', 'CAPITAUX IND_RES']\n",
    "\n",
    "# Delete rows where specified columns have all values equal to 0\n",
    "df_cotation_entreprises = df_cotation_entreprises[~(df_cotation_entreprises[columns_to_check] == 0).all(axis=1)]\n",
    "\n",
    "# Replace NaN values in 'VALEUR' column with empty strings\n",
    "df_cotation_entreprises['VALEUR'].fillna('', inplace=True)\n",
    "\n",
    "# Delete rows where 'VALEUR' column contains the string 'DA'\n",
    "df_cotation_entreprises = df_cotation_entreprises[~df_cotation_entreprises['VALEUR'].astype(str).str.contains('DA')]\n",
    "df_cotation_entreprises = df_cotation_entreprises[~df_cotation_entreprises['VALEUR'].astype(str).str.contains('Da')]\n",
    "df_cotation_entreprises = df_cotation_entreprises[~df_cotation_entreprises['VALEUR'].astype(str).str.contains('------------------')]\n",
    "\n",
    "\n"
   ]
  },
  {
   "cell_type": "code",
   "execution_count": 18,
   "metadata": {
    "id": "Z0fN89Bn8Xr8"
   },
   "outputs": [],
   "source": [
    "df_hist=df_cotation_entreprises"
   ]
  },
  {
   "cell_type": "code",
   "execution_count": 19,
   "metadata": {
    "colab": {
     "base_uri": "https://localhost:8080/"
    },
    "id": "woFch0Sq8mWJ",
    "outputId": "72692b11-d950-4439-8f45-cd453dd18f06"
   },
   "outputs": [
    {
     "name": "stdout",
     "output_type": "stream",
     "text": [
      "       SEANCE  GROUPE    CODE         VALEUR  OUVERTURE  CLOTURE  PLUS_BAS  \\\n",
      "0  02/01/2008    11.0  100010       MONOPRIX       85.0     85.0      85.0   \n",
      "1  02/01/2008    11.0  110025           SFBT       14.5     14.6      14.6   \n",
      "2  02/01/2008    11.0  120040       TUNISAIR        3.8      3.8       3.8   \n",
      "3  02/01/2008    11.0  130055      BTE (ADP)       32.3     32.3      32.3   \n",
      "4  02/01/2008    11.0  140070  SPDIT - SICAF        7.0      7.0       7.0   \n",
      "\n",
      "   PLUS_HAUT  QUANTITE_NEGOCIEE  NB_TRANSACTION  CAPITAUX IND_RES  \n",
      "0       85.0              250.0             7.0           21250.0  \n",
      "1       14.6             6285.0            22.0           91850.4  \n",
      "2        3.8             7548.0            16.0           28682.4  \n",
      "3       32.3              237.0             6.0            7655.1  \n",
      "4        7.0              300.0             2.0            2100.0  \n"
     ]
    }
   ],
   "source": [
    "import pandas as pd\n",
    "\n",
    "\n",
    "# Convert columns to strings\n",
    "df_hist['VALEUR'] = df_hist['VALEUR'].astype(str)\n",
    "df_hist['QUANTITE_NEGOCIEE'] = df_hist['QUANTITE_NEGOCIEE'].astype(str)\n",
    "df_hist['NB_TRANSACTION'] = df_hist['NB_TRANSACTION'].astype(str)\n",
    "df_hist['CAPITAUX IND_RES'] = df_hist['CAPITAUX IND_RES'].astype(str)\n",
    "df_hist['OUVERTURE'] = df_hist['OUVERTURE'].astype(str)\n",
    "df_hist['CLOTURE'] = df_hist['CLOTURE'].astype(str)\n",
    "df_hist['PLUS_BAS'] = df_hist['CLOTURE'].astype(str)\n",
    "df_hist['PLUS_HAUT'] = df_hist['CLOTURE'].astype(str)\n",
    "\n",
    "\n",
    "# Convert columns to floats, handling errors with 'coerce' option to convert non-numeric strings to NaN\n",
    "df_hist['QUANTITE_NEGOCIEE'] = pd.to_numeric(df_hist['QUANTITE_NEGOCIEE'], errors='coerce')\n",
    "df_hist['NB_TRANSACTION'] = pd.to_numeric(df_hist['NB_TRANSACTION'], errors='coerce')\n",
    "df_hist['CAPITAUX IND_RES'] = pd.to_numeric(df_hist['CAPITAUX IND_RES'], errors='coerce')\n",
    "df_hist['OUVERTURE'] = pd.to_numeric(df_hist['OUVERTURE'], errors='coerce')\n",
    "df_hist['CLOTURE'] = pd.to_numeric(df_hist['CLOTURE'], errors='coerce')\n",
    "df_hist['PLUS_BAS'] = pd.to_numeric(df_hist['PLUS_BAS'], errors='coerce')\n",
    "df_hist['PLUS_HAUT'] = pd.to_numeric(df_hist['PLUS_HAUT'], errors='coerce')\n",
    "\n",
    "\n",
    "# Convert columns to integers, handling errors with 'coerce' option to convert non-numeric strings to NaN\n",
    "df_hist['GROUPE'] = pd.to_numeric(df_hist['GROUPE'], errors='coerce')\n",
    "\n",
    "# Display the first few rows of the DataFrame\n",
    "print(df_hist.head())"
   ]
  },
  {
   "cell_type": "code",
   "execution_count": 20,
   "metadata": {
    "colab": {
     "base_uri": "https://localhost:8080/"
    },
    "id": "r-y2MHCO8vBp",
    "outputId": "e602299f-8c55-4688-a90d-96788704f028"
   },
   "outputs": [
    {
     "name": "stdout",
     "output_type": "stream",
     "text": [
      "       SEANCE  GROUPE    CODE         VALEUR  OUVERTURE  CLOTURE  PLUS_BAS  \\\n",
      "0  02/01/2008    11.0  100010       MONOPRIX       85.0     85.0      85.0   \n",
      "1  02/01/2008    11.0  110025           SFBT       14.5     14.6      14.6   \n",
      "2  02/01/2008    11.0  120040       TUNISAIR        3.8      3.8       3.8   \n",
      "3  02/01/2008    11.0  130055      BTE (ADP)       32.3     32.3      32.3   \n",
      "4  02/01/2008    11.0  140070  SPDIT - SICAF        7.0      7.0       7.0   \n",
      "\n",
      "   PLUS_HAUT  QUANTITE_NEGOCIEE  NB_TRANSACTION  CAPITAUX IND_RES  \n",
      "0       85.0              250.0             7.0           21250.0  \n",
      "1       14.6             6285.0            22.0           91850.4  \n",
      "2        3.8             7548.0            16.0           28682.4  \n",
      "3       32.3              237.0             6.0            7655.1  \n",
      "4        7.0              300.0             2.0            2100.0  \n"
     ]
    }
   ],
   "source": [
    "# Iterate through columns\n",
    "for column in df_hist.columns:\n",
    "    # Check if column is of type 'float'\n",
    "    if df_hist[column].dtype == 'float64':\n",
    "        # Replace NaN values with 0\n",
    "        df_hist[column] = df_hist[column].fillna(0)\n",
    "        # Convert column to integers\n",
    "\n",
    "# Display the first few rows of the DataFrame\n",
    "print(df_hist.head())\n"
   ]
  },
  {
   "cell_type": "code",
   "execution_count": 21,
   "metadata": {
    "id": "py3Ms28R8yd6"
   },
   "outputs": [],
   "source": [
    "df_hist['CAPITAUX IND_RES'] = df_hist['CAPITAUX IND_RES'].fillna(0)"
   ]
  },
  {
   "cell_type": "code",
   "execution_count": 22,
   "metadata": {
    "id": "HzOUBmRY80_c"
   },
   "outputs": [],
   "source": [
    "df_hist.drop(columns=['GROUPE'], inplace=True)"
   ]
  },
  {
   "cell_type": "code",
   "execution_count": 23,
   "metadata": {
    "id": "HX36aBrb-OQ0"
   },
   "outputs": [],
   "source": [
    "# Remove leading and trailing whitespace from 'VALEUR' column and check if it's equal to an empty string\n",
    "df_hist = df_hist[df_hist['VALEUR'].str.strip() != '']\n"
   ]
  },
  {
   "cell_type": "code",
   "execution_count": 24,
   "metadata": {
    "colab": {
     "base_uri": "https://localhost:8080/"
    },
    "id": "QophleTt84-9",
    "outputId": "16ed7ac0-ab48-48a2-904c-68bc4a489020"
   },
   "outputs": [
    {
     "name": "stdout",
     "output_type": "stream",
     "text": [
      "Unique values in 'VALEUR' column:\n",
      "['MONOPRIX' 'SFBT' 'TUNISAIR' 'BTE (ADP)' 'SPDIT - SICAF' 'TJARI' 'BIAT'\n",
      " 'BH' 'TUNISIE LEASING' 'BT' 'STB' 'BNA' 'ATB' 'UIB' 'SIMPAR'\n",
      " 'TUNINVEST-SICAR' 'CIL' 'ATL' 'STAR' 'MAGASIN GENERAL' 'SOTETEL'\n",
      " 'SOTUVER' 'SOTUMAG' 'SIAME' 'ELECTROSTAR' 'SOTRAPIL' 'SIPHAT' 'SOMOCER'\n",
      " 'GIF' 'ASSAD' 'KARTHAGO AIRLINES' 'SITS' 'EL WIFACK LEASING' 'ESSOUKNA'\n",
      " 'ADWYA' 'TPR' 'LA CARTE (CI)' 'AIR LIQUDE TSIE' 'UBCI' 'PLAC. TSIE-SICAF'\n",
      " 'PALM BEACH (AA)' 'ASTREE' 'ICF' 'TUNISIE LAIT' 'AMEN BANK' 'ALKIMIA'\n",
      " 'STIP' 'EL MAZRAA' 'GENERAL LEASING' 'STEQ' 'AMS' 'SITEX'\n",
      " 'STE TUN. DU SUCRE' 'SALIM' 'PALM BEACH (ADP)' 'SOPAT' 'ATTIJARI LEASING'\n",
      " 'ARTES' 'ATTIJARI BANK' 'GIF-FILTER' 'ATTIJARI LS ROMPU'\n",
      " 'POULINA GP HOLDING' 'SERVICOM' 'CIMENTS DE BIZERTE' 'ASSURANCES SALIM'\n",
      " 'TUNIS RE' 'CARTHAGE CEMENT' 'ENNAKL AUTOMOBILES' 'VALEUR'\n",
      " 'MODERN LEASING' 'TELNET HOLDING' 'HEXABYTE' 'SOCIETE LAND OR' 'AETECH'\n",
      " 'NEW BODY LINE' 'ONE TECH HOLDING' 'SYPHAX AIRLINES' 'EURO-CYCLES'\n",
      " 'HANNIBAL LEASE' 'LAND OR' 'ELBEN INDUSTRIE' 'ELBENE INDUSTRIE'\n",
      " 'BEST LEASE' 'CITY CARS' 'MPBS' 'SAH' 'SOTEMAIL' 'CELLCOM' 'SOTIPAPIER'\n",
      " 'TAWASOL GP HOLDING' 'MIP' 'MAGHREB INTERN PUB' 'DELICE HOLDING'\n",
      " 'ASS MULTI ITTIHAD' 'CEREALIS' 'Autres Lignes' 'UADH' 'OFFICEPLAST'\n",
      " 'WIFACK INT BANK' 'UNIMED' 'SANIMED' 'ATELIER MEUBLE INT' 'EUROCYCLES'\n",
      " 'GIFFILTER' 'PLAC. TSIESICAF' 'SPDIT  SICAF' 'TUNINVESTSICAR'\n",
      " 'TUNISIE LEASING F' 'TUNISIE VALEURS' 'BH ASSURANCE' 'BH LEASING'\n",
      " 'ASSUR MAGHREBIA' 'BH BANK' 'AIR LIQUIDE TSIE' 'SMART TUNISIE' 'STA'\n",
      " 'ASSU MAGHREBIA VIE']\n"
     ]
    }
   ],
   "source": [
    "# Display the unique values of the \"VALEUR\" column\n",
    "unique_valeur_values = df_hist['VALEUR'].unique()\n",
    "print(\"Unique values in 'VALEUR' column:\")\n",
    "print(unique_valeur_values)"
   ]
  },
  {
   "cell_type": "code",
   "execution_count": 25,
   "metadata": {
    "colab": {
     "base_uri": "https://localhost:8080/"
    },
    "id": "E5ffp_zV8DB4",
    "outputId": "43cf7f2e-7604-42d0-ebdf-f781083f7bfd"
   },
   "outputs": [
    {
     "name": "stderr",
     "output_type": "stream",
     "text": [
      "C:\\Users\\ONS\\AppData\\Local\\Temp\\ipykernel_14660\\2111201947.py:2: SettingWithCopyWarning: \n",
      "A value is trying to be set on a copy of a slice from a DataFrame.\n",
      "Try using .loc[row_indexer,col_indexer] = value instead\n",
      "\n",
      "See the caveats in the documentation: https://pandas.pydata.org/pandas-docs/stable/user_guide/indexing.html#returning-a-view-versus-a-copy\n",
      "  df_hist['VALEUR'] = df_hist['VALEUR'].replace('EURO-CYCLES', 'EUROCYCLES')\n",
      "C:\\Users\\ONS\\AppData\\Local\\Temp\\ipykernel_14660\\2111201947.py:3: SettingWithCopyWarning: \n",
      "A value is trying to be set on a copy of a slice from a DataFrame.\n",
      "Try using .loc[row_indexer,col_indexer] = value instead\n",
      "\n",
      "See the caveats in the documentation: https://pandas.pydata.org/pandas-docs/stable/user_guide/indexing.html#returning-a-view-versus-a-copy\n",
      "  df_hist['VALEUR'] = df_hist['VALEUR'].replace('SPDIT - SICAF', 'SPDIT  SICAF')\n",
      "C:\\Users\\ONS\\AppData\\Local\\Temp\\ipykernel_14660\\2111201947.py:4: SettingWithCopyWarning: \n",
      "A value is trying to be set on a copy of a slice from a DataFrame.\n",
      "Try using .loc[row_indexer,col_indexer] = value instead\n",
      "\n",
      "See the caveats in the documentation: https://pandas.pydata.org/pandas-docs/stable/user_guide/indexing.html#returning-a-view-versus-a-copy\n",
      "  df_hist['VALEUR'] = df_hist['VALEUR'].replace('ASSU MAGHREBIA VIE', 'ASSUR MAGHREBIA')\n",
      "C:\\Users\\ONS\\AppData\\Local\\Temp\\ipykernel_14660\\2111201947.py:5: SettingWithCopyWarning: \n",
      "A value is trying to be set on a copy of a slice from a DataFrame.\n",
      "Try using .loc[row_indexer,col_indexer] = value instead\n",
      "\n",
      "See the caveats in the documentation: https://pandas.pydata.org/pandas-docs/stable/user_guide/indexing.html#returning-a-view-versus-a-copy\n",
      "  df_hist['VALEUR'] = df_hist['VALEUR'].replace('SOCIETE LAND OR', 'LAND OR')\n",
      "C:\\Users\\ONS\\AppData\\Local\\Temp\\ipykernel_14660\\2111201947.py:6: SettingWithCopyWarning: \n",
      "A value is trying to be set on a copy of a slice from a DataFrame.\n",
      "Try using .loc[row_indexer,col_indexer] = value instead\n",
      "\n",
      "See the caveats in the documentation: https://pandas.pydata.org/pandas-docs/stable/user_guide/indexing.html#returning-a-view-versus-a-copy\n",
      "  df_hist['VALEUR'] = df_hist['VALEUR'].replace('PLAC. TSIESICAF', 'PLAC. TSIE-SICAF')\n",
      "C:\\Users\\ONS\\AppData\\Local\\Temp\\ipykernel_14660\\2111201947.py:7: SettingWithCopyWarning: \n",
      "A value is trying to be set on a copy of a slice from a DataFrame.\n",
      "Try using .loc[row_indexer,col_indexer] = value instead\n",
      "\n",
      "See the caveats in the documentation: https://pandas.pydata.org/pandas-docs/stable/user_guide/indexing.html#returning-a-view-versus-a-copy\n",
      "  df_hist['VALEUR'] = df_hist['VALEUR'].replace('AIR LIQUDE TSIE', 'AIR LIQUIDE TSIE')\n",
      "C:\\Users\\ONS\\AppData\\Local\\Temp\\ipykernel_14660\\2111201947.py:8: SettingWithCopyWarning: \n",
      "A value is trying to be set on a copy of a slice from a DataFrame.\n",
      "Try using .loc[row_indexer,col_indexer] = value instead\n",
      "\n",
      "See the caveats in the documentation: https://pandas.pydata.org/pandas-docs/stable/user_guide/indexing.html#returning-a-view-versus-a-copy\n",
      "  df_hist['VALEUR'] = df_hist['VALEUR'].replace('TUNINVEST-SICAR', 'TUNINVESTSICAR')\n",
      "C:\\Users\\ONS\\AppData\\Local\\Temp\\ipykernel_14660\\2111201947.py:9: SettingWithCopyWarning: \n",
      "A value is trying to be set on a copy of a slice from a DataFrame.\n",
      "Try using .loc[row_indexer,col_indexer] = value instead\n",
      "\n",
      "See the caveats in the documentation: https://pandas.pydata.org/pandas-docs/stable/user_guide/indexing.html#returning-a-view-versus-a-copy\n",
      "  df_hist['VALEUR'] = df_hist['VALEUR'].replace('TUNISIE LEASING F', 'TUNISIE LEASING')\n",
      "C:\\Users\\ONS\\AppData\\Local\\Temp\\ipykernel_14660\\2111201947.py:10: SettingWithCopyWarning: \n",
      "A value is trying to be set on a copy of a slice from a DataFrame.\n",
      "Try using .loc[row_indexer,col_indexer] = value instead\n",
      "\n",
      "See the caveats in the documentation: https://pandas.pydata.org/pandas-docs/stable/user_guide/indexing.html#returning-a-view-versus-a-copy\n",
      "  df_hist['VALEUR'] = df_hist['VALEUR'].replace('GIF-FILTER', 'GIFFILTER')\n",
      "C:\\Users\\ONS\\AppData\\Local\\Temp\\ipykernel_14660\\2111201947.py:11: SettingWithCopyWarning: \n",
      "A value is trying to be set on a copy of a slice from a DataFrame.\n",
      "Try using .loc[row_indexer,col_indexer] = value instead\n",
      "\n",
      "See the caveats in the documentation: https://pandas.pydata.org/pandas-docs/stable/user_guide/indexing.html#returning-a-view-versus-a-copy\n",
      "  df_hist['VALEUR'] = df_hist['VALEUR'].replace('ELBENE INDUSTRIE', 'ELBEN INDUSTRIE')\n",
      "C:\\Users\\ONS\\AppData\\Local\\Temp\\ipykernel_14660\\2111201947.py:12: SettingWithCopyWarning: \n",
      "A value is trying to be set on a copy of a slice from a DataFrame.\n",
      "Try using .loc[row_indexer,col_indexer] = value instead\n",
      "\n",
      "See the caveats in the documentation: https://pandas.pydata.org/pandas-docs/stable/user_guide/indexing.html#returning-a-view-versus-a-copy\n",
      "  df_hist['VALEUR'] = df_hist['VALEUR'].replace('STA', 'STAR')\n",
      "C:\\Users\\ONS\\AppData\\Local\\Temp\\ipykernel_14660\\2111201947.py:14: SettingWithCopyWarning: \n",
      "A value is trying to be set on a copy of a slice from a DataFrame.\n",
      "Try using .loc[row_indexer,col_indexer] = value instead\n",
      "\n",
      "See the caveats in the documentation: https://pandas.pydata.org/pandas-docs/stable/user_guide/indexing.html#returning-a-view-versus-a-copy\n",
      "  df_hist['VALEUR'] = df_hist['VALEUR'].replace('BH BANK', 'BH')\n",
      "C:\\Users\\ONS\\AppData\\Local\\Temp\\ipykernel_14660\\2111201947.py:15: SettingWithCopyWarning: \n",
      "A value is trying to be set on a copy of a slice from a DataFrame.\n",
      "Try using .loc[row_indexer,col_indexer] = value instead\n",
      "\n",
      "See the caveats in the documentation: https://pandas.pydata.org/pandas-docs/stable/user_guide/indexing.html#returning-a-view-versus-a-copy\n",
      "  df_hist['VALEUR'] = df_hist['VALEUR'].replace('ATTIJARI BANK','TJARI')\n"
     ]
    }
   ],
   "source": [
    "# Assuming df_hist is your DataFrame\n",
    "df_hist['VALEUR'] = df_hist['VALEUR'].replace('EURO-CYCLES', 'EUROCYCLES')\n",
    "df_hist['VALEUR'] = df_hist['VALEUR'].replace('SPDIT - SICAF', 'SPDIT  SICAF')\n",
    "df_hist['VALEUR'] = df_hist['VALEUR'].replace('ASSU MAGHREBIA VIE', 'ASSUR MAGHREBIA')\n",
    "df_hist['VALEUR'] = df_hist['VALEUR'].replace('SOCIETE LAND OR', 'LAND OR')\n",
    "df_hist['VALEUR'] = df_hist['VALEUR'].replace('PLAC. TSIESICAF', 'PLAC. TSIE-SICAF')\n",
    "df_hist['VALEUR'] = df_hist['VALEUR'].replace('AIR LIQUDE TSIE', 'AIR LIQUIDE TSIE')\n",
    "df_hist['VALEUR'] = df_hist['VALEUR'].replace('TUNINVEST-SICAR', 'TUNINVESTSICAR')\n",
    "df_hist['VALEUR'] = df_hist['VALEUR'].replace('TUNISIE LEASING F', 'TUNISIE LEASING')\n",
    "df_hist['VALEUR'] = df_hist['VALEUR'].replace('GIF-FILTER', 'GIFFILTER')\n",
    "df_hist['VALEUR'] = df_hist['VALEUR'].replace('ELBENE INDUSTRIE', 'ELBEN INDUSTRIE')\n",
    "df_hist['VALEUR'] = df_hist['VALEUR'].replace('STA', 'STAR')\n",
    "#my changes\n",
    "df_hist['VALEUR'] = df_hist['VALEUR'].replace('BH BANK', 'BH')\n",
    "df_hist['VALEUR'] = df_hist['VALEUR'].replace('ATTIJARI BANK','TJARI')\n",
    "\n"
   ]
  },
  {
   "cell_type": "code",
   "execution_count": 26,
   "metadata": {
    "colab": {
     "base_uri": "https://localhost:8080/"
    },
    "id": "x0TgsEoq8DOI",
    "outputId": "7d5b0a2d-aac9-4ded-82ba-81a67d5cc859"
   },
   "outputs": [
    {
     "name": "stdout",
     "output_type": "stream",
     "text": [
      "Similar names to 'TUNISIE LEASING': ['TUNISIE LEASING', 'TUNISIE LAIT']\n",
      "Similar names to 'PALM BEACH (AA)': ['PALM BEACH (AA)', 'PALM BEACH (ADP)']\n",
      "Similar names to 'TUNISIE LAIT': ['TUNISIE LAIT', 'TUNISIE LEASING']\n",
      "Similar names to 'PALM BEACH (ADP)': ['PALM BEACH (ADP)', 'PALM BEACH (AA)']\n"
     ]
    }
   ],
   "source": [
    "from difflib import get_close_matches\n",
    "\n",
    "# Extract unique non-NaN company names from the 'VALEUR' column\n",
    "company_names = df_hist['VALEUR'].dropna().unique()\n",
    "\n",
    "# Function to find similar company names\n",
    "def find_similar_company_names(company_name, all_company_names, threshold=0.8):\n",
    "    # Find close matches using the Levenshtein distance\n",
    "    matches = get_close_matches(company_name, all_company_names, cutoff=threshold)\n",
    "    return matches\n",
    "\n",
    "# Iterate through company names and find similar ones\n",
    "for company_name in company_names:\n",
    "    similar_names = find_similar_company_names(company_name, company_names)\n",
    "    if len(similar_names) > 1:  # Display only if there are similar names\n",
    "        print(f\"Similar names to '{company_name}': {similar_names}\")\n"
   ]
  },
  {
   "cell_type": "code",
   "execution_count": 27,
   "metadata": {
    "colab": {
     "base_uri": "https://localhost:8080/"
    },
    "id": "dYN262l389Xs",
    "outputId": "7acf77c6-7c2c-413a-c04e-ff47f4e0ffa4"
   },
   "outputs": [
    {
     "name": "stdout",
     "output_type": "stream",
     "text": [
      "Unique values in 'VALEUR' column:\n",
      "104\n"
     ]
    }
   ],
   "source": [
    "# Display the unique values of the \"VALEUR\" column\n",
    "unique_valeur_values = df_hist['VALEUR'].nunique()\n",
    "print(\"Unique values in 'VALEUR' column:\")\n",
    "print(unique_valeur_values)"
   ]
  },
  {
   "cell_type": "code",
   "execution_count": 28,
   "metadata": {},
   "outputs": [
    {
     "data": {
      "text/plain": [
       "array(['MONOPRIX', 'SFBT', 'TUNISAIR', 'BTE (ADP)', 'SPDIT  SICAF',\n",
       "       'TJARI', 'BIAT', 'BH', 'TUNISIE LEASING', 'BT', 'STB', 'BNA',\n",
       "       'ATB', 'UIB', 'SIMPAR', 'TUNINVESTSICAR', 'CIL', 'ATL', 'STAR',\n",
       "       'MAGASIN GENERAL', 'SOTETEL', 'SOTUVER', 'SOTUMAG', 'SIAME',\n",
       "       'ELECTROSTAR', 'SOTRAPIL', 'SIPHAT', 'SOMOCER', 'GIF', 'ASSAD',\n",
       "       'KARTHAGO AIRLINES', 'SITS', 'EL WIFACK LEASING', 'ESSOUKNA',\n",
       "       'ADWYA', 'TPR', 'LA CARTE (CI)', 'AIR LIQUIDE TSIE', 'UBCI',\n",
       "       'PLAC. TSIE-SICAF', 'PALM BEACH (AA)', 'ASTREE', 'ICF',\n",
       "       'TUNISIE LAIT', 'AMEN BANK', 'ALKIMIA', 'STIP', 'EL MAZRAA',\n",
       "       'GENERAL LEASING', 'STEQ', 'AMS', 'SITEX', 'STE TUN. DU SUCRE',\n",
       "       'SALIM', 'PALM BEACH (ADP)', 'SOPAT', 'ATTIJARI LEASING', 'ARTES',\n",
       "       'GIFFILTER', 'ATTIJARI LS ROMPU', 'POULINA GP HOLDING', 'SERVICOM',\n",
       "       'CIMENTS DE BIZERTE', 'ASSURANCES SALIM', 'TUNIS RE',\n",
       "       'CARTHAGE CEMENT', 'ENNAKL AUTOMOBILES', 'VALEUR',\n",
       "       'MODERN LEASING', 'TELNET HOLDING', 'HEXABYTE', 'LAND OR',\n",
       "       'AETECH', 'NEW BODY LINE', 'ONE TECH HOLDING', 'SYPHAX AIRLINES',\n",
       "       'EUROCYCLES', 'HANNIBAL LEASE', 'ELBEN INDUSTRIE', 'BEST LEASE',\n",
       "       'CITY CARS', 'MPBS', 'SAH', 'SOTEMAIL', 'CELLCOM', 'SOTIPAPIER',\n",
       "       'TAWASOL GP HOLDING', 'MIP', 'MAGHREB INTERN PUB',\n",
       "       'DELICE HOLDING', 'ASS MULTI ITTIHAD', 'CEREALIS', 'Autres Lignes',\n",
       "       'UADH', 'OFFICEPLAST', 'WIFACK INT BANK', 'UNIMED', 'SANIMED',\n",
       "       'ATELIER MEUBLE INT', 'TUNISIE VALEURS', 'BH ASSURANCE',\n",
       "       'BH LEASING', 'ASSUR MAGHREBIA', 'SMART TUNISIE'], dtype=object)"
      ]
     },
     "execution_count": 28,
     "metadata": {},
     "output_type": "execute_result"
    }
   ],
   "source": [
    "df_hist['VALEUR'].unique()"
   ]
  },
  {
   "cell_type": "code",
   "execution_count": 29,
   "metadata": {
    "colab": {
     "base_uri": "https://localhost:8080/"
    },
    "id": "tLOCd6gOA4jw",
    "outputId": "be18079b-a4b0-43bd-df83-5bf2f65c4ef3"
   },
   "outputs": [
    {
     "name": "stdout",
     "output_type": "stream",
     "text": [
      "<class 'pandas.core.frame.DataFrame'>\n",
      "Index: 294071 entries, 0 to 1556556\n",
      "Data columns (total 10 columns):\n",
      " #   Column             Non-Null Count   Dtype  \n",
      "---  ------             --------------   -----  \n",
      " 0   SEANCE             294069 non-null  object \n",
      " 1   CODE               294071 non-null  object \n",
      " 2   VALEUR             294071 non-null  object \n",
      " 3   OUVERTURE          294071 non-null  float64\n",
      " 4   CLOTURE            294071 non-null  float64\n",
      " 5   PLUS_BAS           294071 non-null  float64\n",
      " 6   PLUS_HAUT          294071 non-null  float64\n",
      " 7   QUANTITE_NEGOCIEE  294071 non-null  float64\n",
      " 8   NB_TRANSACTION     294071 non-null  float64\n",
      " 9   CAPITAUX IND_RES   294071 non-null  float64\n",
      "dtypes: float64(7), object(3)\n",
      "memory usage: 24.7+ MB\n"
     ]
    }
   ],
   "source": [
    "df_hist.info()"
   ]
  },
  {
   "cell_type": "code",
   "execution_count": 30,
   "metadata": {
    "colab": {
     "base_uri": "https://localhost:8080/",
     "height": 206
    },
    "id": "g2V-GHAIBAzD",
    "outputId": "e68764bc-b9cf-44e6-f5ca-8cc09af4d2fc"
   },
   "outputs": [
    {
     "data": {
      "text/html": [
       "<div>\n",
       "<style scoped>\n",
       "    .dataframe tbody tr th:only-of-type {\n",
       "        vertical-align: middle;\n",
       "    }\n",
       "\n",
       "    .dataframe tbody tr th {\n",
       "        vertical-align: top;\n",
       "    }\n",
       "\n",
       "    .dataframe thead th {\n",
       "        text-align: right;\n",
       "    }\n",
       "</style>\n",
       "<table border=\"1\" class=\"dataframe\">\n",
       "  <thead>\n",
       "    <tr style=\"text-align: right;\">\n",
       "      <th></th>\n",
       "      <th>SEANCE</th>\n",
       "      <th>CODE</th>\n",
       "      <th>VALEUR</th>\n",
       "      <th>OUVERTURE</th>\n",
       "      <th>CLOTURE</th>\n",
       "      <th>PLUS_BAS</th>\n",
       "      <th>PLUS_HAUT</th>\n",
       "      <th>QUANTITE_NEGOCIEE</th>\n",
       "      <th>NB_TRANSACTION</th>\n",
       "      <th>CAPITAUX IND_RES</th>\n",
       "    </tr>\n",
       "  </thead>\n",
       "  <tbody>\n",
       "    <tr>\n",
       "      <th>0</th>\n",
       "      <td>02/01/2008</td>\n",
       "      <td>100010</td>\n",
       "      <td>MONOPRIX</td>\n",
       "      <td>85.0</td>\n",
       "      <td>85.0</td>\n",
       "      <td>85.0</td>\n",
       "      <td>85.0</td>\n",
       "      <td>250.0</td>\n",
       "      <td>7.0</td>\n",
       "      <td>21250.0</td>\n",
       "    </tr>\n",
       "    <tr>\n",
       "      <th>1</th>\n",
       "      <td>02/01/2008</td>\n",
       "      <td>110025</td>\n",
       "      <td>SFBT</td>\n",
       "      <td>14.5</td>\n",
       "      <td>14.6</td>\n",
       "      <td>14.6</td>\n",
       "      <td>14.6</td>\n",
       "      <td>6285.0</td>\n",
       "      <td>22.0</td>\n",
       "      <td>91850.4</td>\n",
       "    </tr>\n",
       "    <tr>\n",
       "      <th>2</th>\n",
       "      <td>02/01/2008</td>\n",
       "      <td>120040</td>\n",
       "      <td>TUNISAIR</td>\n",
       "      <td>3.8</td>\n",
       "      <td>3.8</td>\n",
       "      <td>3.8</td>\n",
       "      <td>3.8</td>\n",
       "      <td>7548.0</td>\n",
       "      <td>16.0</td>\n",
       "      <td>28682.4</td>\n",
       "    </tr>\n",
       "    <tr>\n",
       "      <th>3</th>\n",
       "      <td>02/01/2008</td>\n",
       "      <td>130055</td>\n",
       "      <td>BTE (ADP)</td>\n",
       "      <td>32.3</td>\n",
       "      <td>32.3</td>\n",
       "      <td>32.3</td>\n",
       "      <td>32.3</td>\n",
       "      <td>237.0</td>\n",
       "      <td>6.0</td>\n",
       "      <td>7655.1</td>\n",
       "    </tr>\n",
       "    <tr>\n",
       "      <th>4</th>\n",
       "      <td>02/01/2008</td>\n",
       "      <td>140070</td>\n",
       "      <td>SPDIT  SICAF</td>\n",
       "      <td>7.0</td>\n",
       "      <td>7.0</td>\n",
       "      <td>7.0</td>\n",
       "      <td>7.0</td>\n",
       "      <td>300.0</td>\n",
       "      <td>2.0</td>\n",
       "      <td>2100.0</td>\n",
       "    </tr>\n",
       "  </tbody>\n",
       "</table>\n",
       "</div>"
      ],
      "text/plain": [
       "       SEANCE    CODE        VALEUR  OUVERTURE  CLOTURE  PLUS_BAS  PLUS_HAUT  \\\n",
       "0  02/01/2008  100010      MONOPRIX       85.0     85.0      85.0       85.0   \n",
       "1  02/01/2008  110025          SFBT       14.5     14.6      14.6       14.6   \n",
       "2  02/01/2008  120040      TUNISAIR        3.8      3.8       3.8        3.8   \n",
       "3  02/01/2008  130055     BTE (ADP)       32.3     32.3      32.3       32.3   \n",
       "4  02/01/2008  140070  SPDIT  SICAF        7.0      7.0       7.0        7.0   \n",
       "\n",
       "   QUANTITE_NEGOCIEE  NB_TRANSACTION  CAPITAUX IND_RES  \n",
       "0              250.0             7.0           21250.0  \n",
       "1             6285.0            22.0           91850.4  \n",
       "2             7548.0            16.0           28682.4  \n",
       "3              237.0             6.0            7655.1  \n",
       "4              300.0             2.0            2100.0  "
      ]
     },
     "execution_count": 30,
     "metadata": {},
     "output_type": "execute_result"
    }
   ],
   "source": [
    "df_hist.head()"
   ]
  },
  {
   "cell_type": "code",
   "execution_count": 31,
   "metadata": {
    "id": "WDdh_8Vc4frH"
   },
   "outputs": [],
   "source": [
    "# Save the DataFrame to a CSV file\n",
    "df_hist.to_csv('df_cotation_entreprises.csv', index=False)"
   ]
  }
 ],
 "metadata": {
  "colab": {
   "provenance": []
  },
  "kernelspec": {
   "display_name": "Python 3 (ipykernel)",
   "language": "python",
   "name": "python3"
  },
  "language_info": {
   "codemirror_mode": {
    "name": "ipython",
    "version": 3
   },
   "file_extension": ".py",
   "mimetype": "text/x-python",
   "name": "python",
   "nbconvert_exporter": "python",
   "pygments_lexer": "ipython3",
   "version": "3.11.5"
  }
 },
 "nbformat": 4,
 "nbformat_minor": 1
}
